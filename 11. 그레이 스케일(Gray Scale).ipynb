{
 "cells": [
  {
   "cell_type": "code",
   "execution_count": 1,
   "metadata": {},
   "outputs": [],
   "source": [
    "import cv2"
   ]
  },
  {
   "cell_type": "code",
   "execution_count": 2,
   "metadata": {},
   "outputs": [],
   "source": [
    "# 이미지 불러옴.\n",
    "src = cv2.imread('opencv_image/8.jpg', cv2.IMREAD_REDUCED_COLOR_2)\n",
    "\n",
    "# 그레이 스케일로 변환.\n",
    "# BRG. BRGA, RGB, RGBA, GRAY, BGR565, XYZ, YcrCb, HSV, Lab, Luv, HLS. YUV, BG, GB, RG, _EA, _VNG\n",
    "dst = cv2.cvtColor(src, cv2.COLOR_BGR2GRAY)\n",
    "\n",
    "cv2.imshow('src', src)\n",
    "cv2.imshow('dst', dst)\n",
    "\n",
    "cv2.waitKey()\n",
    "cv2.destroyAllWindows()"
   ]
  }
 ],
 "metadata": {
  "kernelspec": {
   "display_name": "Python 3",
   "language": "python",
   "name": "python3"
  },
  "language_info": {
   "codemirror_mode": {
    "name": "ipython",
    "version": 3
   },
   "file_extension": ".py",
   "mimetype": "text/x-python",
   "name": "python",
   "nbconvert_exporter": "python",
   "pygments_lexer": "ipython3",
   "version": "3.7.6"
  }
 },
 "nbformat": 4,
 "nbformat_minor": 4
}
