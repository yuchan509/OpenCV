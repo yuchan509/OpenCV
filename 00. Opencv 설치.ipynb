{
 "cells": [
  {
   "cell_type": "markdown",
   "metadata": {},
   "source": [
    "- 설치 참고 : http://hello-bryan.tistory.com/29\n",
    "- 공식 사이트 : http://opencv.org/\n",
    "- 다운로드 주소 : https://sourceforge.net/projects/opencvlibrary/files/4.5.1/opencv-4.5.1-vc14_vc15.exe/download "
   ]
  },
  {
   "cell_type": "markdown",
   "metadata": {},
   "source": [
    "- 파일을 내려받아 실행하면 압축이 풀림.\n",
    "- 압축을 해제한 opencv 폴더를 원하는 곳으로 이동.\n",
    "- 환경 변수를 설정.\n",
    "---\n",
    "- opencv 폴더의 위치를 설정하는 작업.\n",
    "- 환경변수에 OPENCV_BUILD를 추가하고, build 까지의 경로를 설정.\n",
    "- 탐색기의 내 pc에서 마우스 우클릭 > 고급탭.\n",
    "- 환경변수 버튼을 누름.\n",
    "- 새로만들기를 눌러 환경변수 설정.\n",
    "- 경로 C:\\opencv\\build\n",
    "---\n",
    "- path 설정. opencv에서 제공하는 파일을 모든 위치에서 사용할 수 있도록 환경변수에서 path를 찾아 더블 클릭.\n",
    "- C:\\opencv\\build\\x64\\vc15\\bin\n",
    "\n",
    "--- \n",
    "- 파이썬 전용 라이브러리 설치 pip install opencv-python"
   ]
  }
 ],
 "metadata": {
  "kernelspec": {
   "display_name": "Python 3",
   "language": "python",
   "name": "python3"
  },
  "language_info": {
   "codemirror_mode": {
    "name": "ipython",
    "version": 3
   },
   "file_extension": ".py",
   "mimetype": "text/x-python",
   "name": "python",
   "nbconvert_exporter": "python",
   "pygments_lexer": "ipython3",
   "version": "3.7.6"
  }
 },
 "nbformat": 4,
 "nbformat_minor": 4
}
