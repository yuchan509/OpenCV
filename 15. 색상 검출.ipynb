{
 "cells": [
  {
   "cell_type": "markdown",
   "metadata": {},
   "source": [
    "* 색상을 Hue, Saturation, Value 형태로 분리하여 변환할 수 있다.\n",
    "    * Hue : 색상, 빨강, 노랑, 파랑이라고 하는 표현으로 나타내는 성질.\n",
    "    * Saturation : 채도, 색의 선명도, 원색에 가까울 수록 채도가 높다고 표현.\n",
    "    * Value : 명도, 색의 밝기, 높을 수록 백색 낮을 수록 흑색에 가까워 짐."
   ]
  },
  {
   "cell_type": "code",
   "execution_count": 1,
   "metadata": {},
   "outputs": [],
   "source": [
    "import cv2"
   ]
  },
  {
   "cell_type": "code",
   "execution_count": 2,
   "metadata": {},
   "outputs": [],
   "source": [
    "# 이미지 읽기.\n",
    "src = cv2.imread('opencv_image/13.jpg', cv2.IMREAD_REDUCED_COLOR_2)\n",
    "\n",
    "# 색상을 hsv 형태의 체계로 변환한 이미지 가져옴.\n",
    "hsv = cv2.cvtColor(src, cv2.COLOR_BGR2HSV)\n",
    "\n",
    "# 색상, 채도, 명도로 분리.\n",
    "h, s, v = cv2.split(hsv)\n",
    "\n",
    "\n",
    "cv2.imshow('src', src)\n",
    "cv2.imshow('Hue', h)\n",
    "cv2.imshow('Saturation', s)\n",
    "cv2.imshow('Value', v)\n",
    "\n",
    "cv2.waitKey()\n",
    "cv2.destroyAllWindows()"
   ]
  }
 ],
 "metadata": {
  "kernelspec": {
   "display_name": "Python 3",
   "language": "python",
   "name": "python3"
  },
  "language_info": {
   "codemirror_mode": {
    "name": "ipython",
    "version": 3
   },
   "file_extension": ".py",
   "mimetype": "text/x-python",
   "name": "python",
   "nbconvert_exporter": "python",
   "pygments_lexer": "ipython3",
   "version": "3.7.6"
  }
 },
 "nbformat": 4,
 "nbformat_minor": 4
}
