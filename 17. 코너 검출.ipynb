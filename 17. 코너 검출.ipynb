{
 "cells": [
  {
   "cell_type": "markdown",
   "metadata": {},
   "source": [
    "- 영상이나 이미지에서 코너를 검출하는 알고리즘.\n",
    "- 정확하게 트래킹하기 좋은 지점을 찾을 수 있음.\n",
    "- 다각형 등에서 꼭지점을 찾는 목적으로 사용."
   ]
  },
  {
   "cell_type": "code",
   "execution_count": 1,
   "metadata": {},
   "outputs": [],
   "source": [
    "import cv2"
   ]
  },
  {
   "cell_type": "code",
   "execution_count": null,
   "metadata": {},
   "outputs": [],
   "source": [
    "# 이미지 읽기.\n",
    "src = cv2.imread('opencv_image/19.jpg', cv2.IMREAD_REDUCED_COLOR_2)\n",
    "\n",
    "# 작업을 위해 이미지 복제.\n",
    "dst = src.copy()\n",
    "\n",
    "# 그레이 스케일 적용.\n",
    "gray = cv2.cvtColor(src, cv2.COLOR_RGB2GRAY)\n",
    "\n",
    "# 코너 검출.\n",
    "# 그레이 스케일이 적용된 이미지, 코너 최댓값, 코너 품질, 최소(근접) 거리\n",
    "# 마스크, 블록 크기\n",
    "corners = cv2.goodFeaturesToTrack(gray, 100, 0.01, 5)\n",
    "# corners # 잡은 코너 위치.\n",
    "\n",
    "# 코너 위치 표시.\n",
    "for i in corners :\n",
    "    # 원으로 표시.\n",
    "    # 원의 중심점 좌표, 선의 두께, 색상, 반경\n",
    "    cv2.circle(dst, tuple(i[0]), 0, (0, 0, 255), 2)\n",
    "    \n",
    "cv2.imshow('dst', dst)\n",
    "cv2.waitKey()\n",
    "cv2.destroyAllWindows()"
   ]
  }
 ],
 "metadata": {
  "kernelspec": {
   "display_name": "Python 3",
   "language": "python",
   "name": "python3"
  },
  "language_info": {
   "codemirror_mode": {
    "name": "ipython",
    "version": 3
   },
   "file_extension": ".py",
   "mimetype": "text/x-python",
   "name": "python",
   "nbconvert_exporter": "python",
   "pygments_lexer": "ipython3",
   "version": "3.7.6"
  }
 },
 "nbformat": 4,
 "nbformat_minor": 4
}
