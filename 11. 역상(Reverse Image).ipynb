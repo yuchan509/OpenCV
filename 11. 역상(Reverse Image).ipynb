{
 "cells": [
  {
   "cell_type": "code",
   "execution_count": 1,
   "metadata": {},
   "outputs": [],
   "source": [
    "import cv2"
   ]
  },
  {
   "cell_type": "code",
   "execution_count": 2,
   "metadata": {},
   "outputs": [],
   "source": [
    "# 이미지 읽기.\n",
    "src = cv2.imread('opencv_image/9.jpg', cv2.IMREAD_REDUCED_COLOR_2)\n",
    "\n",
    "# 역상 이미지를 구함.\n",
    "# dst1, dst3, dst4 => 다른 이미지도 필요.\n",
    "# dst1 = cv2.bitwise_and(src)\n",
    "# dst3 = cv2.bitwise_or(src)\n",
    "# dst4 = cv2.bitwise_xor(src)\n",
    "\n",
    "dst2 = cv2.bitwise_not(src)  # 역상.\n",
    "\n",
    "cv2.imshow('src', src)\n",
    "cv2.imshow('dst', dst2)\n",
    "\n",
    "cv2.waitKey()\n",
    "cv2.destroyAllWindows()"
   ]
  }
 ],
 "metadata": {
  "kernelspec": {
   "display_name": "Python 3",
   "language": "python",
   "name": "python3"
  },
  "language_info": {
   "codemirror_mode": {
    "name": "ipython",
    "version": 3
   },
   "file_extension": ".py",
   "mimetype": "text/x-python",
   "name": "python",
   "nbconvert_exporter": "python",
   "pygments_lexer": "ipython3",
   "version": "3.7.6"
  }
 },
 "nbformat": 4,
 "nbformat_minor": 4
}
