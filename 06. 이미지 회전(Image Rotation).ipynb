{
 "cells": [
  {
   "cell_type": "code",
   "execution_count": 1,
   "metadata": {},
   "outputs": [],
   "source": [
    "import cv2"
   ]
  },
  {
   "cell_type": "code",
   "execution_count": 2,
   "metadata": {},
   "outputs": [],
   "source": [
    "# 이미지를 읽기.\n",
    "src = cv2.imread('opencv_image/4.jpg', cv2.IMREAD_REDUCED_COLOR_2)\n",
    "\n",
    "# 이미지에 대한 정보를 가져옴.\n",
    "width, height, channel = src.shape\n",
    "\n",
    "# 이미지의 중심 위치를 기준으로 90도 회전하며, 비율을 유지한 변환 행렬을 구함.\n",
    "matrix = cv2.getRotationMatrix2D( (width/2, height/2), 90, 1 )\n",
    "\n",
    "# 원본 이미지에 변환 행렬을 적용.\n",
    "dst = cv2.warpAffine(src, matrix, (width, height))\n",
    "\n",
    "# 표현.\n",
    "cv2.imshow('src', src)\n",
    "cv2.imshow('dst', dst)\n",
    "\n",
    "cv2.waitKey()\n",
    "cv2.destroyAllWindows()"
   ]
  }
 ],
 "metadata": {
  "kernelspec": {
   "display_name": "Python 3",
   "language": "python",
   "name": "python3"
  },
  "language_info": {
   "codemirror_mode": {
    "name": "ipython",
    "version": 3
   },
   "file_extension": ".py",
   "mimetype": "text/x-python",
   "name": "python",
   "nbconvert_exporter": "python",
   "pygments_lexer": "ipython3",
   "version": "3.7.6"
  }
 },
 "nbformat": 4,
 "nbformat_minor": 4
}
