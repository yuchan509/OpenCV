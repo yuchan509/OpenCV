{
 "cells": [
  {
   "cell_type": "code",
   "execution_count": 1,
   "metadata": {},
   "outputs": [],
   "source": [
    "import cv2, datetime"
   ]
  },
  {
   "cell_type": "code",
   "execution_count": null,
   "metadata": {},
   "outputs": [
    {
     "name": "stdout",
     "output_type": "stream",
     "text": [
      "녹화 시작\n",
      "녹화 중지\n"
     ]
    }
   ],
   "source": [
    "# 영상 읽기.\n",
    "video = cv2.VideoCapture('opencv_image/video.mp4')\n",
    "\n",
    "# 녹화시 사용할 영상의 인코딩 방식.\n",
    "fourcc = cv2.VideoWriter_fourcc(*'XVID')\n",
    "\n",
    "# 현재 녹화중인지 확인을 위한 변수.\n",
    "record = False\n",
    "while True :\n",
    "    # 영상 출력.\n",
    "    ret, frame = video.read()\n",
    "    cv2.imshow('VideoFrame', frame)\n",
    "    \n",
    "    # 키 입력을 받음.\n",
    "    key = cv2.waitKey(33)\n",
    "    \n",
    "    # 입력한 키별로 분기함.\n",
    "    # ESC 키.\n",
    "    if key == 27 :\n",
    "        break\n",
    "    elif key == 26 :  # Ctrl + z\n",
    "        print('캡처')\n",
    "       \n",
    "        # 현재 화면 저장.\n",
    "        now = datetime.datetime.now().strftime('%d_%H-%M-%S')\n",
    "        cv2.imwrite(now + '.png', frame)\n",
    "        break\n",
    "        \n",
    "    elif key ==24 :  # Ctrl + x\n",
    "        print('녹화 시작')\n",
    "        now = datetime.datetime.now().strftime('%d_%H-%M-%S')\n",
    "        \n",
    "        # 파일명, 코덱, FPS, (녹화 세로길이, 녹화 가로길이)\n",
    "        vw = cv2.VideoWriter(now + '.avi', fourcc, 20, (frame.shape[1], frame.shape[0]))\n",
    "        record = True\n",
    "        \n",
    "    elif key == 3 : # Ctrl + c\n",
    "        print('녹화 중지')\n",
    "        vw.release()\n",
    "        record = False\n",
    "    \n",
    "    # 녹화 처리.\n",
    "    if record == True :\n",
    "        vw.write(frame)\n",
    "        \n",
    "video.release()\n",
    "cv2.destroyAllWindows()\n"
   ]
  }
 ],
 "metadata": {
  "kernelspec": {
   "display_name": "Python 3",
   "language": "python",
   "name": "python3"
  },
  "language_info": {
   "codemirror_mode": {
    "name": "ipython",
    "version": 3
   },
   "file_extension": ".py",
   "mimetype": "text/x-python",
   "name": "python",
   "nbconvert_exporter": "python",
   "pygments_lexer": "ipython3",
   "version": "3.7.6"
  }
 },
 "nbformat": 4,
 "nbformat_minor": 4
}
