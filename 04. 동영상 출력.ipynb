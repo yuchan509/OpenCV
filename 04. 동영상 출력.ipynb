{
 "cells": [
  {
   "cell_type": "markdown",
   "metadata": {},
   "source": [
    "- OpenCV는 FFmpeg를 지워하므로, avi, mp4 등 다양한 형태의 동영상 재생이 가능.\n",
    "- gif 이미지도 지원."
   ]
  },
  {
   "cell_type": "code",
   "execution_count": 1,
   "metadata": {},
   "outputs": [],
   "source": [
    "import cv2"
   ]
  },
  {
   "cell_type": "code",
   "execution_count": 2,
   "metadata": {},
   "outputs": [],
   "source": [
    "# 영상 파일 설정.\n",
    "video = cv2.VideoCapture('opencv_image/video.mp4')"
   ]
  },
  {
   "cell_type": "code",
   "execution_count": 3,
   "metadata": {},
   "outputs": [
    {
     "data": {
      "text/plain": [
       "0.0"
      ]
     },
     "execution_count": 3,
     "metadata": {},
     "output_type": "execute_result"
    }
   ],
   "source": [
    "# 현재 재생 되고 있는 프레임 위치.\n",
    "video.get(cv2.CAP_PROP_POS_FRAMES)"
   ]
  },
  {
   "cell_type": "code",
   "execution_count": 4,
   "metadata": {},
   "outputs": [
    {
     "data": {
      "text/plain": [
       "8662.0"
      ]
     },
     "execution_count": 4,
     "metadata": {},
     "output_type": "execute_result"
    }
   ],
   "source": [
    "# 전체 프레임 수.\n",
    "video.get(cv2.CAP_PROP_FRAME_COUNT)"
   ]
  },
  {
   "cell_type": "code",
   "execution_count": 6,
   "metadata": {},
   "outputs": [],
   "source": [
    "# 엔터키를 누를 때 까지 반복.\n",
    "while cv2.waitKey(33) < 0 :\n",
    "    # 현재 재생 위치.\n",
    "    a1 = video.get(cv2.CAP_PROP_POS_FRAMES)\n",
    "    # 현재 프레임 수.\n",
    "    a2 = video.get(cv2.CAP_PROP_FRAME_COUNT)\n",
    "    # 현재 재생 위치가 마지막 위치라면 제일 처음으로 이동.\n",
    "    if a1 == a2 :\n",
    "        video.set(cv2.CAP_PROP_POS_FRAMES, 0)\n",
    "    \n",
    "    # 재생.\n",
    "    ret, frame = video.read()\n",
    "    cv2.imshow('VideoFrame', frame)\n",
    "\n",
    "video.release()\n",
    "cv2.destroyAllWindows()"
   ]
  }
 ],
 "metadata": {
  "kernelspec": {
   "display_name": "Python 3",
   "language": "python",
   "name": "python3"
  },
  "language_info": {
   "codemirror_mode": {
    "name": "ipython",
    "version": 3
   },
   "file_extension": ".py",
   "mimetype": "text/x-python",
   "name": "python",
   "nbconvert_exporter": "python",
   "pygments_lexer": "ipython3",
   "version": "3.7.6"
  }
 },
 "nbformat": 4,
 "nbformat_minor": 4
}
