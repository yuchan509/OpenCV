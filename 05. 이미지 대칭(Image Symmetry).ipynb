{
 "cells": [
  {
   "cell_type": "markdown",
   "metadata": {},
   "source": [
    "- 대칭은 기하학적인 의미에서 반사를 의미함.\n",
    "- 2차원 유클리드 공간에서의 선형 변환을 의미함.\n",
    "- 대칭은 변환할 행렬(이미지)에 대해 2 X 2 행렬을 왼쪽 곱셈을 진행.\n",
    "- p 형태의 물체에 y축 대칭을 적용하면 q 형태로 바뀌게 됨."
   ]
  },
  {
   "cell_type": "code",
   "execution_count": 2,
   "metadata": {},
   "outputs": [],
   "source": [
    "import cv2"
   ]
  },
  {
   "cell_type": "code",
   "execution_count": null,
   "metadata": {},
   "outputs": [],
   "source": [
    "# 이미지를 읽기.\n",
    "src = cv2.imread('opencv_image/3.jpg', cv2.IMREAD_REDUCED_COLOR_2)\n",
    "\n",
    "# 반전 이미지를 구함.\n",
    "# 0 : X축 대칭(상하 대칭)\n",
    "# 0 보다 작으면 : X, Y축 대칭(상하 좌우 대칭)\n",
    "# 0 보다 크면 : Y 축 대칭(좌우 대칭)\n",
    "dist1 = cv2.flip(src, 0)\n",
    "dist2 = cv2.flip(src, -1)\n",
    "dist3 = cv2.flip(src, 1)\n",
    "\n",
    "# 표현.\n",
    "cv2.imshow('src', src)\n",
    "cv2.imshow('dist1', dist1)\n",
    "cv2.imshow('dist2', dist2)\n",
    "cv2.imshow('dist3', dist3)\n",
    "\n",
    "cv2.waitKey()\n",
    "cv2.destroyAllWindows()"
   ]
  }
 ],
 "metadata": {
  "kernelspec": {
   "display_name": "Python 3",
   "language": "python",
   "name": "python3"
  },
  "language_info": {
   "codemirror_mode": {
    "name": "ipython",
    "version": 3
   },
   "file_extension": ".py",
   "mimetype": "text/x-python",
   "name": "python",
   "nbconvert_exporter": "python",
   "pygments_lexer": "ipython3",
   "version": "3.7.6"
  }
 },
 "nbformat": 4,
 "nbformat_minor": 4
}
